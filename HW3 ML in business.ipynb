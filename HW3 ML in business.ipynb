{
 "cells": [
  {
   "cell_type": "markdown",
   "metadata": {},
   "source": [
    "Заглушка к ДЗ 3 (сделаю на выходных)"
   ]
  },
  {
   "cell_type": "markdown",
   "metadata": {},
   "source": [
    "1. Прочитайте базу my_PJME_MW.csv и сделайте ее перрасчет (ресемплинг) в представление по 1 месяцу.\n",
    "\n",
    "\n",
    "2.Подберите параметры модели SARIMAX для этого ряда.\n",
    "\n",
    "\n",
    "3.Сделайте вывод о том, как изменилась модель по сравнению с недельной.\n",
    "\n",
    "\n",
    "4. Возмите вариант 1 или 2\n",
    "\n",
    "\n",
    "- Вариант 1) - Постройте ACF, PACF и модель ARIMA для BRENT (недельный ресемплинг)\n",
    "\n",
    "- Вариант 2) - Постройте ACF, PACF и модель ARIMA для СOVID_19 (по любой стране кроме Китая на дневных графиках )\n",
    "\n",
    "\n",
    "5.Оцените результат моделирования\n",
    "\n",
    "\n",
    "6.Сделайте предположение о моделях, которые лучше работают с техниками регрессии на основе AR I MA."
   ]
  },
  {
   "cell_type": "code",
   "execution_count": null,
   "metadata": {},
   "outputs": [],
   "source": []
  }
 ],
 "metadata": {
  "kernelspec": {
   "display_name": "Python 3",
   "language": "python",
   "name": "python3"
  },
  "language_info": {
   "codemirror_mode": {
    "name": "ipython",
    "version": 3
   },
   "file_extension": ".py",
   "mimetype": "text/x-python",
   "name": "python",
   "nbconvert_exporter": "python",
   "pygments_lexer": "ipython3",
   "version": "3.7.1"
  }
 },
 "nbformat": 4,
 "nbformat_minor": 2
}
