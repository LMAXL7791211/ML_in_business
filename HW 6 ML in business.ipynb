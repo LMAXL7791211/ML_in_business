{
 "cells": [
  {
   "cell_type": "markdown",
   "metadata": {},
   "source": [
    "Заглушка к ДЗ к 6 уроку курса Машинное обучение в бизнесе (сделаю на выходных)"
   ]
  },
  {
   "cell_type": "markdown",
   "metadata": {},
   "source": [
    "дз:\n",
    "\n",
    "1.\n",
    "Напишите текстом как минимум 6 функций распределения и соответствующие им функции правдоподобия.\n",
    "Напишите, какие по вашему мнению целевые переменные из бизнеса (лучше - из страхового) соответствуют этим распределениям (по 2 примера на каждое).\n",
    "Пример: биномиальное распределение для задачи моделирования пролонгации (продлил клиент полис на следующий период или нет).\n",
    "\n",
    "2.\n",
    "На основе датасета из ноутбука проведите анализ данных и постройте зависимости частоты и среднего убытка от какого-либо параметра (за исключением уже выполненных в ноутбуке)."
   ]
  },
  {
   "cell_type": "code",
   "execution_count": null,
   "metadata": {},
   "outputs": [],
   "source": []
  }
 ],
 "metadata": {
  "kernelspec": {
   "display_name": "Python 3",
   "language": "python",
   "name": "python3"
  },
  "language_info": {
   "codemirror_mode": {
    "name": "ipython",
    "version": 3
   },
   "file_extension": ".py",
   "mimetype": "text/x-python",
   "name": "python",
   "nbconvert_exporter": "python",
   "pygments_lexer": "ipython3",
   "version": "3.7.1"
  }
 },
 "nbformat": 4,
 "nbformat_minor": 2
}
