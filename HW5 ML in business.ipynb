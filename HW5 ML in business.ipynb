{
 "cells": [
  {
   "cell_type": "markdown",
   "metadata": {},
   "source": [
    "Заглушка к ДЗ к 5 уроку ML in business (сделаю в течение недели)"
   ]
  },
  {
   "cell_type": "markdown",
   "metadata": {},
   "source": [
    "1. Прочитайте базу my_BRENT2019.csv. Сделайте ее перерасчет (ресемплинг) в представление по неделям и перейдите к представлению ряда первыми разностями.\n",
    "\n",
    "\n",
    "2. Добавьте первые разности по стоимости доллара и евро к рублю (недельные).\n",
    "\n",
    "\n",
    "3. Постройте модель предсказания 1-й точки от текущей (h=1).\n",
    "\n",
    "\n",
    "4. Сделайте вывод о поведении ошибки предсказания ряда в сравнении с прямым прогнозированием."
   ]
  },
  {
   "cell_type": "code",
   "execution_count": null,
   "metadata": {},
   "outputs": [],
   "source": []
  }
 ],
 "metadata": {
  "kernelspec": {
   "display_name": "Python 3",
   "language": "python",
   "name": "python3"
  },
  "language_info": {
   "codemirror_mode": {
    "name": "ipython",
    "version": 3
   },
   "file_extension": ".py",
   "mimetype": "text/x-python",
   "name": "python",
   "nbconvert_exporter": "python",
   "pygments_lexer": "ipython3",
   "version": "3.7.1"
  }
 },
 "nbformat": 4,
 "nbformat_minor": 2
}
