{
 "cells": [
  {
   "cell_type": "markdown",
   "metadata": {},
   "source": [
    "заглушка к 9 ДЗ курса Машинное обучение в бизнесе"
   ]
  },
  {
   "cell_type": "markdown",
   "metadata": {},
   "source": [
    "#### Домашнее задание\n",
    "\n",
    "\n",
    "Нужно реализовать rest api на базе flask (пример https://github.com/fimochka-sudo/gb_flask_hw_api)\n",
    "\n",
    "По шагам:\n",
    "\n",
    "\n",
    "1.    выбрать себе датасет (который интересен или нравится больше всего), сделать pipeline (преобразования + модель), сохранить его на диск. Если не хочется пайплайн, то можно без него, но так вам же будет удобнее потом вызывать его из кода сервиса.\n",
    "\n",
    "2.    установить удобную для себя среду разработки (pycharm прекрасен - https://www.jetbrains.com/pycharm/)\n",
    "\n",
    "3.    научиться создавать там виртуальное окружение для python (в правом нижнем углу есть add interpreter)\n",
    "\n",
    "4.    для вашего проекта вам понадобится requirements.txt с пакетами. Можно за основу взять такой файл из проекта выше. Для его установки прям в pycharm можно открыть терминал и сделать pip install -r requirements.txt (находясь в корне проекта конечно же при этом)\n",
    "\n",
    "5.    завести себе аккаунт на guthub (если его еще нет). У самого github есть такой \"hello world\" по работе с ним - https://guides.github.com/activities/hello-world/\n",
    "\n",
    "6.    научиться запускать gunicorn (установить его конечно). Пример для проекта выше: gunicorn -w 5 -b 127.0.0.1:5000 run_server:app\n",
    "\n",
    "7.    итоговый проект должен содержать: 1) каталог models/ (здесь модель-пайплайн предобученная) 2) файл run_server.py (здесь основной код flask-приложения) 3) requirements.txt (список пакетов, которые у вас используются в проекте) 4) README.md (здесь какое-то описание, что вы делаете, что за данные и т.д)\n",
    "\n",
    "8.    (<b>Опционально</b>): front-end сервис какой-то, который умеет принимать от пользователя введеные данные и ходить в ваш api. На самом деле полезно больше вам, т.к если ваш проект будет далее развиваться (новые модели, интересные подходы), то это хороший пунктик к резюме и в принципе - строчка в портфолио)\n",
    "\n",
    "\n",
    "Полезные ссылки:\n",
    "\n",
    "\n",
    "    датасеты (для полета мысли): https://www.kaggle.com/datasets\n",
    "    конкурс Сбербанка по недвижимости (можно этот набор данных также взять и обучить модель предсказывать стоимость жилья - неплохой такой сервис может получиться) - https://www.kaggle.com/c/sberbank-russian-housing-market/data Там же и ноутбуки с разными подходами есть.\n",
    "    презентация с занятия - https://hackmd.io/@AndreyPhys/flask-ml-api#/\n",
    "    минималистичный пример связки keras/flask https://blog.keras.io/building-a-simple-keras-deep-learning-rest-api.html для определения класса картинки\n",
    "    неплохой такой пример связки docker/flask - https://cloud.croc.ru/blog/byt-v-teme/flask-prilozheniya-v-docker/\n",
    "    https://www.digitalocean.com/community/tutorials/how-to-build-and-deploy-a-flask-application-using-docker-on-ubuntu-18-04\n"
   ]
  },
  {
   "cell_type": "code",
   "execution_count": null,
   "metadata": {},
   "outputs": [],
   "source": []
  }
 ],
 "metadata": {
  "kernelspec": {
   "display_name": "Python 3",
   "language": "python",
   "name": "python3"
  },
  "language_info": {
   "codemirror_mode": {
    "name": "ipython",
    "version": 3
   },
   "file_extension": ".py",
   "mimetype": "text/x-python",
   "name": "python",
   "nbconvert_exporter": "python",
   "pygments_lexer": "ipython3",
   "version": "3.7.7"
  }
 },
 "nbformat": 4,
 "nbformat_minor": 4
}
