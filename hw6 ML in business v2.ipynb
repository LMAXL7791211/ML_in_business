{
 "cells": [
  {
   "cell_type": "markdown",
   "metadata": {},
   "source": [
    "Заглушка к ДЗ к 6 уроку \"Машинного обучения в бизнесе\". Сделаю в ближайшие дни"
   ]
  },
  {
   "cell_type": "markdown",
   "metadata": {},
   "source": [
    "### Домашнее задание\n",
    "\n",
    "1. повторить анализ набора данных WA_Fn-UseC_-Telco-Customer-Churn.csv (желательно придумать какие-то дополнительные признаки)\n",
    "2. дополнить список моделей еще как минимум тремя (lightgbm, xgboost, svm, knn, naivebayes, сети, что-то еще)\n",
    "3. на выходе сформировать единую таблицу метрик качества со всеми моделями \n",
    "4. сделать выводы о том, какие модели лучше справляются с задачей прогноза оттока на этой выборке\n",
    "5. есть ли смысл в этапе отборе признаков с точки зрения повышения качества прогнозов\n",
    "6. (опционально) сделать подбор параметров (без особого усердия) для лучшей (можно нескольких) моделей и проверить качество снова\n",
    "\n",
    "Полезные ссылки:\n",
    "1. метрики качества - https://habr.com/ru/company/ods/blog/328372/\n",
    "2. roc auc - https://dyakonov.org/2017/07/28/auc-roc-площадь-под-кривой-ошибок/\n",
    "3. алгоритм smote+примеры - https://machinelearningmastery.com/smote-oversampling-for-imbalanced-classification/\n",
    "\n",
    "Нужные пакеты и библиотеки:\n",
    "- plotly\n",
    "- imblearn\n",
    "- yellowbrick\n",
    "\n",
    "Ссылки на статьи:\n",
    "- https://arxiv.org/pdf/1907.03947.pdf\n",
    "- https://hanj.cs.illinois.edu/pdf/kdd18_cyang.pdf"
   ]
  },
  {
   "cell_type": "code",
   "execution_count": null,
   "metadata": {},
   "outputs": [],
   "source": []
  }
 ],
 "metadata": {
  "kernelspec": {
   "display_name": "Python 3",
   "language": "python",
   "name": "python3"
  },
  "language_info": {
   "codemirror_mode": {
    "name": "ipython",
    "version": 3
   },
   "file_extension": ".py",
   "mimetype": "text/x-python",
   "name": "python",
   "nbconvert_exporter": "python",
   "pygments_lexer": "ipython3",
   "version": "3.7.7"
  }
 },
 "nbformat": 4,
 "nbformat_minor": 4
}
